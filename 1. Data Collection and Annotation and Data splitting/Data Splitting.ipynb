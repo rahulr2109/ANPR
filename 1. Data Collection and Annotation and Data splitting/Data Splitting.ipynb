{
 "cells": [
  {
   "cell_type": "code",
   "execution_count": 2,
   "id": "93397e4e-cb31-4261-bca7-d86e94f3aeb1",
   "metadata": {},
   "outputs": [],
   "source": [
    "from sklearn.model_selection import train_test_split\n",
    "import cv2\n",
    "import os\n",
    "import yaml"
   ]
  },
  {
   "cell_type": "code",
   "execution_count": 3,
   "id": "12a30bc6-3e3c-4e26-bce8-39f58fce53e2",
   "metadata": {},
   "outputs": [],
   "source": [
    "root_dir = \"datasets/car-number-plate/\"\n",
    "valid_formats = [\".jpg\", \".jpeg\", \".png\", \".txt\"]"
   ]
  },
  {
   "cell_type": "code",
   "execution_count": 32,
   "id": "0debbc88-1a3d-42e9-b0f5-ae1c26ee6435",
   "metadata": {},
   "outputs": [],
   "source": [
    "def file_paths(root, valid_formats):\n",
    "    file_paths = []\n",
    "    files = os.listdir(root)\n",
    "    for filename in files:\n",
    "        extension = os.path.splitext(filename)[1].lower()\n",
    "        if extension in valid_formats:\n",
    "            #file_path = os.path.join(filename)\n",
    "            file_path = root + \"/\" + filename\n",
    "            file_paths.append(file_path)\n",
    "    return file_paths       \n",
    "        \n",
    "\n",
    "    # # loop over the directory tree\n",
    "    # for dirpath, dirnames, filenames in os.walk(root):\n",
    "    #     # loop over the filenames in the current directory\n",
    "    #     for filename in filenames:\n",
    "    #         # extract the file extension from the filename\n",
    "    #         extension = os.path.splitext(filename)[1].lower()\n",
    "\n",
    "    #         # if the filename has a valid extension we build the full \n",
    "    #         # path to the file and append it to our list\n",
    "    #         if extension in valid_formats:\n",
    "    #             file_path = os.path.join(dirpath, filename)\n",
    "    #             file_paths.append(file_path)\n",
    "\n",
    "    # return file_paths"
   ]
  },
  {
   "cell_type": "code",
   "execution_count": 33,
   "id": "8558e5bd-99ab-4ff3-9bbe-edb6d2860984",
   "metadata": {},
   "outputs": [],
   "source": [
    "image_paths = file_paths(root_dir + \"images\", valid_formats[:3])\n",
    "label_paths = file_paths(root_dir + \"labels\", valid_formats[-1])"
   ]
  },
  {
   "cell_type": "code",
   "execution_count": 36,
   "id": "80656433-5e3d-4bc1-bb34-1bdc22e9e0cd",
   "metadata": {},
   "outputs": [],
   "source": [
    "X_train, X_val_test, y_train, y_val_test = train_test_split(image_paths, label_paths, test_size=0.3, random_state=42)\n",
    "X_val, X_test, y_val, y_test = train_test_split(X_val_test, y_val_test, test_size=0.7, random_state=42)"
   ]
  },
  {
   "cell_type": "code",
   "execution_count": null,
   "id": "5f75e225",
   "metadata": {},
   "outputs": [],
   "source": [
    "def write_to_file(images_path, labels_path, X):\n",
    "\n",
    "    # Create the directories if they don't exist\n",
    "    os.makedirs(images_path, exist_ok=True)\n",
    "    os.makedirs(labels_path, exist_ok=True)\n",
    "\n",
    "    # loop over the image paths\n",
    "    for img_path in X:\n",
    "        # Get the image name and extension\n",
    "        img_name = img_path.split(\"/\")[-1].split(\".\")[0]\n",
    "        img_ext = img_path.split(\"/\")[-1].split(\".\")[-1]\n",
    "        # read the image\n",
    "        image = cv2.imread(img_path)\n",
    "        # save the image to the images directory\n",
    "        cv2.imwrite(f\"{images_path}/{img_name}.{img_ext}\", image)\n",
    "\n",
    "        # open the label file and write its contents to the new label file\n",
    "        f = open(f\"{labels_path}/{img_name}.txt\", \"w\")\n",
    "        label_file = open(f\"{root_dir}/labels/{img_name}.txt\", \"r\")\n",
    "        f.write(label_file.read())\n",
    "        f.close()\n",
    "        label_file.close()"
   ]
  },
  {
   "cell_type": "code",
   "execution_count": 37,
   "id": "8b904612-26c3-4e17-8967-2d5493027922",
   "metadata": {},
   "outputs": [],
   "source": [
    "write_to_file(\"datasets/images/train\", \"datasets/labels/train\", X_train)\n",
    "write_to_file(\"datasets/images/valid\", \"datasets/labels/valid\", X_val)\n",
    "write_to_file(\"datasets/images/test\", \"datasets/labels/test\", X_test)"
   ]
  },
  {
   "cell_type": "code",
   "execution_count": 38,
   "id": "462d4650-3a08-46a8-bcc7-060a585f822f",
   "metadata": {},
   "outputs": [],
   "source": [
    "data = {\n",
    "    \"path\": \"../datasets\", # dataset root dir (you can also use the full path to the `datasets` folder)\n",
    "    \"train\": \"images/train\", # train images (relative to 'path')\n",
    "    \"val\": \"images/valid\", # val images (relative to 'path')\n",
    "    \"test\": \"images/test\", # test images (optional)\n",
    "\n",
    "    # Classes\n",
    "    \"names\":[\"number plate\"]\n",
    "}"
   ]
  },
  {
   "cell_type": "code",
   "execution_count": 39,
   "id": "9e971286-4f39-49af-84f8-a09338bb90e3",
   "metadata": {},
   "outputs": [],
   "source": [
    "# write the dictionary to a YAML file\n",
    "with open(\"number-plate.yaml\", \"w\") as f:\n",
    "    yaml.dump(data, f)"
   ]
  },
  {
   "cell_type": "code",
   "execution_count": null,
   "id": "2bf1c834-29da-4ece-9383-8087891e8816",
   "metadata": {},
   "outputs": [],
   "source": []
  }
 ],
 "metadata": {
  "kernelspec": {
   "display_name": "condaenv",
   "language": "python",
   "name": "condaenv"
  },
  "language_info": {
   "codemirror_mode": {
    "name": "ipython",
    "version": 3
   },
   "file_extension": ".py",
   "mimetype": "text/x-python",
   "name": "python",
   "nbconvert_exporter": "python",
   "pygments_lexer": "ipython3",
   "version": "3.9.18"
  }
 },
 "nbformat": 4,
 "nbformat_minor": 5
}
